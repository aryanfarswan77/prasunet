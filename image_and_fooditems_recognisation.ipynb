{
  "nbformat": 4,
  "nbformat_minor": 0,
  "metadata": {
    "colab": {
      "provenance": [],
      "authorship_tag": "ABX9TyNM/mHeV8m3KJADLvgOq9kM",
      "include_colab_link": true
    },
    "kernelspec": {
      "name": "python3",
      "display_name": "Python 3"
    },
    "language_info": {
      "name": "python"
    }
  },
  "cells": [
    {
      "cell_type": "markdown",
      "metadata": {
        "id": "view-in-github",
        "colab_type": "text"
      },
      "source": [
        "<a href=\"https://colab.research.google.com/github/aryanfarswan77/prasunet/blob/main/image_and_fooditems_recognisation.ipynb\" target=\"_parent\"><img src=\"https://colab.research.google.com/assets/colab-badge.svg\" alt=\"Open In Colab\"/></a>"
      ]
    },
    {
      "cell_type": "code",
      "source": [
        "# Install required libraries\n",
        "!pip install tensorflow keras kaggle\n"
      ],
      "metadata": {
        "id": "bFj9wD_SKeTB"
      },
      "execution_count": null,
      "outputs": []
    },
    {
      "cell_type": "code",
      "source": [
        "# Import necessary libraries\n",
        "import tensorflow as tf\n",
        "from tensorflow.keras.applications import ResNet50\n",
        "from tensorflow.keras.preprocessing.image import ImageDataGenerator\n",
        "from tensorflow.keras import layers, models\n",
        "from sklearn.model_selection import train_test_split\n",
        "import numpy as np\n",
        "import pandas as pd\n",
        "import os\n"
      ],
      "metadata": {
        "id": "m3d4C3VCKmK0"
      },
      "execution_count": null,
      "outputs": []
    },
    {
      "cell_type": "code",
      "source": [
        "# Use Kaggle API to download the dataset or upload it manually\n",
        "!mkdir ~/.kaggle\n",
        "!cp kaggle.json ~/.kaggle/  # Ensure you upload your 'kaggle.json' API key before running this\n",
        "!chmod 600 ~/.kaggle/kaggle.json\n",
        "!kaggle datasets download -d dansbecker/food-101\n",
        "\n",
        "# Unzip the downloaded dataset\n",
        "!unzip food-101.zip\n"
      ],
      "metadata": {
        "id": "R8HNDts8Kt2T"
      },
      "execution_count": null,
      "outputs": []
    },
    {
      "cell_type": "code",
      "source": [
        "# Image Data Generator for preprocessing the dataset\n",
        "datagen = ImageDataGenerator(rescale=1./255, validation_split=0.2)  # Normalize images\n",
        "\n",
        "# Training data generator\n",
        "train_generator = datagen.flow_from_directory(\n",
        "    'food-101/images',\n",
        "    target_size=(224, 224),\n",
        "    batch_size=32,\n",
        "    class_mode='categorical',\n",
        "    subset='training'\n",
        ")\n",
        "\n",
        "# Validation data generator\n",
        "validation_generator = datagen.flow_from_directory(\n",
        "    'food-101/images',\n",
        "    target_size=(224, 224),\n",
        "    batch_size=32,\n",
        "    class_mode='categorical',\n",
        "    subset='validation'\n",
        ")\n"
      ],
      "metadata": {
        "id": "PU4jxiGtPcDc"
      },
      "execution_count": null,
      "outputs": []
    },
    {
      "cell_type": "code",
      "source": [],
      "metadata": {
        "id": "w1P-hO8UOF3r"
      },
      "execution_count": null,
      "outputs": []
    },
    {
      "cell_type": "code",
      "source": [
        "# Load the ResNet50 model pre-trained on ImageNet\n",
        "base_model = ResNet50(weights='imagenet', include_top=False, input_shape=(224, 224, 3))\n",
        "base_model.trainable = False  # Freeze the pre-trained layers\n",
        "\n",
        "# Define the full model\n",
        "model = models.Sequential([\n",
        "    base_model,\n",
        "    layers.GlobalAveragePooling2D(),\n",
        "    layers.Dense(1024, activation='relu'),\n",
        "    layers.Dense(len(train_generator.class_indices), activation='softmax')  # Output layer for classification\n",
        "])\n",
        "\n",
        "# Compile the model\n",
        "model.compile(optimizer='adam', loss='categorical_crossentropy', metrics=['accuracy'])\n",
        "\n",
        "# Display the model structure\n",
        "model.summary()\n"
      ],
      "metadata": {
        "id": "TPNRU2CFMqFE"
      },
      "execution_count": null,
      "outputs": []
    },
    {
      "cell_type": "code",
      "source": [
        "# Train the model with training data and validate on the validation set\n",
        "history = model.fit(\n",
        "    train_generator,\n",
        "    validation_data=validation_generator,\n",
        "    epochs=10,\n",
        "    steps_per_epoch=train_generator.samples // 32,\n",
        "    validation_steps=validation_generator.samples // 32\n",
        ")\n"
      ],
      "metadata": {
        "id": "4ViqAmnBMuTX"
      },
      "execution_count": null,
      "outputs": []
    },
    {
      "cell_type": "code",
      "source": [
        "# Example mapping of food classes to their calorie information (you'll need to extend this)\n",
        "food_calories = {\n",
        "    'apple_pie': 237,\n",
        "    'baby_back_ribs': 290,\n",
        "    'baklava': 220,\n",
        "    # Add entries for all 101 classes from the dataset\n",
        "}\n"
      ],
      "metadata": {
        "id": "VafOF86EMw_v"
      },
      "execution_count": null,
      "outputs": []
    },
    {
      "cell_type": "code",
      "source": [
        "# Define a function to predict food class and estimate calories\n",
        "def predict_and_estimate_calories(image_path, model, food_calories):\n",
        "    # Load and preprocess the image\n",
        "    img = tf.keras.preprocessing.image.load_img(image_path, target_size=(224, 224))\n",
        "    img_array = tf.keras.preprocessing.image.img_to_array(img) / 255.0\n",
        "    img_array = np.expand_dims(img_array, axis=0)\n",
        "\n",
        "    # Predict the food class\n",
        "    prediction = model.predict(img_array)\n",
        "    predicted_class = np.argmax(prediction[0])\n",
        "\n",
        "    # Get the class label\n",
        "    predicted_label = list(train_generator.class_indices.keys())[predicted_class]\n",
        "\n",
        "    # Estimate calories\n",
        "    estimated_calories = food_calories.get(predicted_label, \"Calorie information not available\")\n",
        "\n",
        "    return predicted_label, estimated_calories\n",
        "\n",
        "# Example Usage\n",
        "image_path = 'path_to_some_test_image.jpg'  # Replace with the path to your test image\n",
        "predicted_food, calories = predict_and_estimate_calories(image_path, model, food_calories)\n",
        "print(f\"Predicted Food: {predicted_food}, Estimated Calories: {calories}\")\n"
      ],
      "metadata": {
        "id": "FsYBgYc_M0HU"
      },
      "execution_count": null,
      "outputs": []
    }
  ]
}